{
 "cells": [
  {
   "cell_type": "code",
   "execution_count": 4,
   "metadata": {
    "collapsed": true
   },
   "outputs": [],
   "source": [
    "import glob\n",
    "import os\n",
    "import sys\n",
    "import numpy as np\n",
    "import pandas as pd \n",
    "import time\n",
    "import matplotlib.pyplot as plt\n",
    "%matplotlib inline"
   ]
  },
  {
   "cell_type": "code",
   "execution_count": 5,
   "metadata": {},
   "outputs": [
    {
     "data": {
      "text/plain": [
       "['results/RetnaNet\\\\submit-RetnaNet-100000.csv',\n",
       " 'results/RetnaNet\\\\submit-RetnaNet-20000.csv',\n",
       " 'results/RetnaNet\\\\submit-RetnaNet-30000.csv',\n",
       " 'results/RetnaNet\\\\submit-RetnaNet-40000.csv',\n",
       " 'results/RetnaNet\\\\submit-RetnaNet-50000.csv',\n",
       " 'results/RetnaNet\\\\submit-RetnaNet-60000.csv',\n",
       " 'results/RetnaNet\\\\submit-RetnaNet-70000.csv',\n",
       " 'results/RetnaNet\\\\submit-RetnaNet-80000.csv',\n",
       " 'results/RetnaNet\\\\submit-RetnaNet-90000.csv',\n",
       " 'results/RetnaNet\\\\submit-RetnaNet-99999.csv']"
      ]
     },
     "execution_count": 5,
     "metadata": {},
     "output_type": "execute_result"
    }
   ],
   "source": [
    "image_path = \"results/RetnaNet/*.csv\"\n",
    "files_path=glob.glob(image_path)\n",
    "\n",
    "files_path"
   ]
  },
  {
   "cell_type": "code",
   "execution_count": 6,
   "metadata": {},
   "outputs": [],
   "source": [
    "frames=[]\n",
    "for i in range(len(files_path)):\n",
    "    df = pd.read_csv(files_path[i])\n",
    "    frames.append(df)\n",
    "result = pd.concat(frames)\n",
    "result.to_csv('results/RetnaNet/submit-YOLO3-100k.csv',index=False)"
   ]
  },
  {
   "cell_type": "code",
   "execution_count": null,
   "metadata": {
    "collapsed": true
   },
   "outputs": [],
   "source": []
  }
 ],
 "metadata": {
  "kernelspec": {
   "display_name": "Python 3",
   "language": "python",
   "name": "python3"
  },
  "language_info": {
   "codemirror_mode": {
    "name": "ipython",
    "version": 3
   },
   "file_extension": ".py",
   "mimetype": "text/x-python",
   "name": "python",
   "nbconvert_exporter": "python",
   "pygments_lexer": "ipython3",
   "version": "3.6.4"
  }
 },
 "nbformat": 4,
 "nbformat_minor": 2
}
